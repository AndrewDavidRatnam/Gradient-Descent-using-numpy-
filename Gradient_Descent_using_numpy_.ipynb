{
  "nbformat": 4,
  "nbformat_minor": 0,
  "metadata": {
    "colab": {
      "provenance": []
    },
    "kernelspec": {
      "name": "python3",
      "display_name": "Python 3"
    },
    "language_info": {
      "name": "python"
    }
  },
  "cells": [
    {
      "cell_type": "code",
      "source": [
        "import numpy as np\n",
        "import pandas as pd\n",
        "import matplotlib.pyplot as plt"
      ],
      "metadata": {
        "id": "x_dvG-8bypSO"
      },
      "execution_count": 5,
      "outputs": []
    },
    {
      "cell_type": "markdown",
      "source": [
        "# Data Loading And Preprocessing"
      ],
      "metadata": {
        "id": "s3lvj6Ob5aN7"
      }
    },
    {
      "cell_type": "code",
      "execution_count": 1,
      "metadata": {
        "id": "Fv-54C2fxR80"
      },
      "outputs": [],
      "source": [
        "from sklearn.datasets import load_iris"
      ]
    },
    {
      "cell_type": "code",
      "source": [
        "iris = load_iris()"
      ],
      "metadata": {
        "id": "Ok6Ik4RSyYVq"
      },
      "execution_count": 73,
      "outputs": []
    },
    {
      "cell_type": "code",
      "source": [
        "iris.feature_names"
      ],
      "metadata": {
        "colab": {
          "base_uri": "https://localhost:8080/"
        },
        "id": "vH34WUfJyePw",
        "outputId": "6d194d06-5c55-478a-f46a-93a8f9d9822f"
      },
      "execution_count": 74,
      "outputs": [
        {
          "output_type": "execute_result",
          "data": {
            "text/plain": [
              "['sepal length (cm)',\n",
              " 'sepal width (cm)',\n",
              " 'petal length (cm)',\n",
              " 'petal width (cm)']"
            ]
          },
          "metadata": {},
          "execution_count": 74
        }
      ]
    },
    {
      "cell_type": "code",
      "source": [
        "X = iris.data[:,2:]"
      ],
      "metadata": {
        "id": "bjnL-ccLygVQ"
      },
      "execution_count": 75,
      "outputs": []
    },
    {
      "cell_type": "code",
      "source": [
        "X"
      ],
      "metadata": {
        "colab": {
          "base_uri": "https://localhost:8080/"
        },
        "id": "VvaSemhJApV7",
        "outputId": "30d2b442-2cfa-47a3-909a-3cbbe94d287a"
      },
      "execution_count": 76,
      "outputs": [
        {
          "output_type": "execute_result",
          "data": {
            "text/plain": [
              "array([[1.4, 0.2],\n",
              "       [1.4, 0.2],\n",
              "       [1.3, 0.2],\n",
              "       [1.5, 0.2],\n",
              "       [1.4, 0.2],\n",
              "       [1.7, 0.4],\n",
              "       [1.4, 0.3],\n",
              "       [1.5, 0.2],\n",
              "       [1.4, 0.2],\n",
              "       [1.5, 0.1],\n",
              "       [1.5, 0.2],\n",
              "       [1.6, 0.2],\n",
              "       [1.4, 0.1],\n",
              "       [1.1, 0.1],\n",
              "       [1.2, 0.2],\n",
              "       [1.5, 0.4],\n",
              "       [1.3, 0.4],\n",
              "       [1.4, 0.3],\n",
              "       [1.7, 0.3],\n",
              "       [1.5, 0.3],\n",
              "       [1.7, 0.2],\n",
              "       [1.5, 0.4],\n",
              "       [1. , 0.2],\n",
              "       [1.7, 0.5],\n",
              "       [1.9, 0.2],\n",
              "       [1.6, 0.2],\n",
              "       [1.6, 0.4],\n",
              "       [1.5, 0.2],\n",
              "       [1.4, 0.2],\n",
              "       [1.6, 0.2],\n",
              "       [1.6, 0.2],\n",
              "       [1.5, 0.4],\n",
              "       [1.5, 0.1],\n",
              "       [1.4, 0.2],\n",
              "       [1.5, 0.2],\n",
              "       [1.2, 0.2],\n",
              "       [1.3, 0.2],\n",
              "       [1.4, 0.1],\n",
              "       [1.3, 0.2],\n",
              "       [1.5, 0.2],\n",
              "       [1.3, 0.3],\n",
              "       [1.3, 0.3],\n",
              "       [1.3, 0.2],\n",
              "       [1.6, 0.6],\n",
              "       [1.9, 0.4],\n",
              "       [1.4, 0.3],\n",
              "       [1.6, 0.2],\n",
              "       [1.4, 0.2],\n",
              "       [1.5, 0.2],\n",
              "       [1.4, 0.2],\n",
              "       [4.7, 1.4],\n",
              "       [4.5, 1.5],\n",
              "       [4.9, 1.5],\n",
              "       [4. , 1.3],\n",
              "       [4.6, 1.5],\n",
              "       [4.5, 1.3],\n",
              "       [4.7, 1.6],\n",
              "       [3.3, 1. ],\n",
              "       [4.6, 1.3],\n",
              "       [3.9, 1.4],\n",
              "       [3.5, 1. ],\n",
              "       [4.2, 1.5],\n",
              "       [4. , 1. ],\n",
              "       [4.7, 1.4],\n",
              "       [3.6, 1.3],\n",
              "       [4.4, 1.4],\n",
              "       [4.5, 1.5],\n",
              "       [4.1, 1. ],\n",
              "       [4.5, 1.5],\n",
              "       [3.9, 1.1],\n",
              "       [4.8, 1.8],\n",
              "       [4. , 1.3],\n",
              "       [4.9, 1.5],\n",
              "       [4.7, 1.2],\n",
              "       [4.3, 1.3],\n",
              "       [4.4, 1.4],\n",
              "       [4.8, 1.4],\n",
              "       [5. , 1.7],\n",
              "       [4.5, 1.5],\n",
              "       [3.5, 1. ],\n",
              "       [3.8, 1.1],\n",
              "       [3.7, 1. ],\n",
              "       [3.9, 1.2],\n",
              "       [5.1, 1.6],\n",
              "       [4.5, 1.5],\n",
              "       [4.5, 1.6],\n",
              "       [4.7, 1.5],\n",
              "       [4.4, 1.3],\n",
              "       [4.1, 1.3],\n",
              "       [4. , 1.3],\n",
              "       [4.4, 1.2],\n",
              "       [4.6, 1.4],\n",
              "       [4. , 1.2],\n",
              "       [3.3, 1. ],\n",
              "       [4.2, 1.3],\n",
              "       [4.2, 1.2],\n",
              "       [4.2, 1.3],\n",
              "       [4.3, 1.3],\n",
              "       [3. , 1.1],\n",
              "       [4.1, 1.3],\n",
              "       [6. , 2.5],\n",
              "       [5.1, 1.9],\n",
              "       [5.9, 2.1],\n",
              "       [5.6, 1.8],\n",
              "       [5.8, 2.2],\n",
              "       [6.6, 2.1],\n",
              "       [4.5, 1.7],\n",
              "       [6.3, 1.8],\n",
              "       [5.8, 1.8],\n",
              "       [6.1, 2.5],\n",
              "       [5.1, 2. ],\n",
              "       [5.3, 1.9],\n",
              "       [5.5, 2.1],\n",
              "       [5. , 2. ],\n",
              "       [5.1, 2.4],\n",
              "       [5.3, 2.3],\n",
              "       [5.5, 1.8],\n",
              "       [6.7, 2.2],\n",
              "       [6.9, 2.3],\n",
              "       [5. , 1.5],\n",
              "       [5.7, 2.3],\n",
              "       [4.9, 2. ],\n",
              "       [6.7, 2. ],\n",
              "       [4.9, 1.8],\n",
              "       [5.7, 2.1],\n",
              "       [6. , 1.8],\n",
              "       [4.8, 1.8],\n",
              "       [4.9, 1.8],\n",
              "       [5.6, 2.1],\n",
              "       [5.8, 1.6],\n",
              "       [6.1, 1.9],\n",
              "       [6.4, 2. ],\n",
              "       [5.6, 2.2],\n",
              "       [5.1, 1.5],\n",
              "       [5.6, 1.4],\n",
              "       [6.1, 2.3],\n",
              "       [5.6, 2.4],\n",
              "       [5.5, 1.8],\n",
              "       [4.8, 1.8],\n",
              "       [5.4, 2.1],\n",
              "       [5.6, 2.4],\n",
              "       [5.1, 2.3],\n",
              "       [5.1, 1.9],\n",
              "       [5.9, 2.3],\n",
              "       [5.7, 2.5],\n",
              "       [5.2, 2.3],\n",
              "       [5. , 1.9],\n",
              "       [5.2, 2. ],\n",
              "       [5.4, 2.3],\n",
              "       [5.1, 1.8]])"
            ]
          },
          "metadata": {},
          "execution_count": 76
        }
      ]
    },
    {
      "cell_type": "code",
      "source": [
        "y = iris.target"
      ],
      "metadata": {
        "id": "LUgWytWfy5f-"
      },
      "execution_count": 77,
      "outputs": []
    },
    {
      "cell_type": "code",
      "source": [
        "#X = skleanrn.add_dummy_feature(X)\n",
        "X = np.c_[np.ones((len(X), 1)),X]\n",
        "#X1 = X = np.c_[np.ones((len(X))),X] #X1 == X #adds two columns"
      ],
      "metadata": {
        "id": "RK3-i52Zzy16"
      },
      "execution_count": 78,
      "outputs": []
    },
    {
      "cell_type": "code",
      "source": [
        "X"
      ],
      "metadata": {
        "colab": {
          "base_uri": "https://localhost:8080/"
        },
        "id": "yRe--RkIAr3T",
        "outputId": "71700eeb-83ad-4b2f-e6eb-06cb66966c93"
      },
      "execution_count": 79,
      "outputs": [
        {
          "output_type": "execute_result",
          "data": {
            "text/plain": [
              "array([[1. , 1.4, 0.2],\n",
              "       [1. , 1.4, 0.2],\n",
              "       [1. , 1.3, 0.2],\n",
              "       [1. , 1.5, 0.2],\n",
              "       [1. , 1.4, 0.2],\n",
              "       [1. , 1.7, 0.4],\n",
              "       [1. , 1.4, 0.3],\n",
              "       [1. , 1.5, 0.2],\n",
              "       [1. , 1.4, 0.2],\n",
              "       [1. , 1.5, 0.1],\n",
              "       [1. , 1.5, 0.2],\n",
              "       [1. , 1.6, 0.2],\n",
              "       [1. , 1.4, 0.1],\n",
              "       [1. , 1.1, 0.1],\n",
              "       [1. , 1.2, 0.2],\n",
              "       [1. , 1.5, 0.4],\n",
              "       [1. , 1.3, 0.4],\n",
              "       [1. , 1.4, 0.3],\n",
              "       [1. , 1.7, 0.3],\n",
              "       [1. , 1.5, 0.3],\n",
              "       [1. , 1.7, 0.2],\n",
              "       [1. , 1.5, 0.4],\n",
              "       [1. , 1. , 0.2],\n",
              "       [1. , 1.7, 0.5],\n",
              "       [1. , 1.9, 0.2],\n",
              "       [1. , 1.6, 0.2],\n",
              "       [1. , 1.6, 0.4],\n",
              "       [1. , 1.5, 0.2],\n",
              "       [1. , 1.4, 0.2],\n",
              "       [1. , 1.6, 0.2],\n",
              "       [1. , 1.6, 0.2],\n",
              "       [1. , 1.5, 0.4],\n",
              "       [1. , 1.5, 0.1],\n",
              "       [1. , 1.4, 0.2],\n",
              "       [1. , 1.5, 0.2],\n",
              "       [1. , 1.2, 0.2],\n",
              "       [1. , 1.3, 0.2],\n",
              "       [1. , 1.4, 0.1],\n",
              "       [1. , 1.3, 0.2],\n",
              "       [1. , 1.5, 0.2],\n",
              "       [1. , 1.3, 0.3],\n",
              "       [1. , 1.3, 0.3],\n",
              "       [1. , 1.3, 0.2],\n",
              "       [1. , 1.6, 0.6],\n",
              "       [1. , 1.9, 0.4],\n",
              "       [1. , 1.4, 0.3],\n",
              "       [1. , 1.6, 0.2],\n",
              "       [1. , 1.4, 0.2],\n",
              "       [1. , 1.5, 0.2],\n",
              "       [1. , 1.4, 0.2],\n",
              "       [1. , 4.7, 1.4],\n",
              "       [1. , 4.5, 1.5],\n",
              "       [1. , 4.9, 1.5],\n",
              "       [1. , 4. , 1.3],\n",
              "       [1. , 4.6, 1.5],\n",
              "       [1. , 4.5, 1.3],\n",
              "       [1. , 4.7, 1.6],\n",
              "       [1. , 3.3, 1. ],\n",
              "       [1. , 4.6, 1.3],\n",
              "       [1. , 3.9, 1.4],\n",
              "       [1. , 3.5, 1. ],\n",
              "       [1. , 4.2, 1.5],\n",
              "       [1. , 4. , 1. ],\n",
              "       [1. , 4.7, 1.4],\n",
              "       [1. , 3.6, 1.3],\n",
              "       [1. , 4.4, 1.4],\n",
              "       [1. , 4.5, 1.5],\n",
              "       [1. , 4.1, 1. ],\n",
              "       [1. , 4.5, 1.5],\n",
              "       [1. , 3.9, 1.1],\n",
              "       [1. , 4.8, 1.8],\n",
              "       [1. , 4. , 1.3],\n",
              "       [1. , 4.9, 1.5],\n",
              "       [1. , 4.7, 1.2],\n",
              "       [1. , 4.3, 1.3],\n",
              "       [1. , 4.4, 1.4],\n",
              "       [1. , 4.8, 1.4],\n",
              "       [1. , 5. , 1.7],\n",
              "       [1. , 4.5, 1.5],\n",
              "       [1. , 3.5, 1. ],\n",
              "       [1. , 3.8, 1.1],\n",
              "       [1. , 3.7, 1. ],\n",
              "       [1. , 3.9, 1.2],\n",
              "       [1. , 5.1, 1.6],\n",
              "       [1. , 4.5, 1.5],\n",
              "       [1. , 4.5, 1.6],\n",
              "       [1. , 4.7, 1.5],\n",
              "       [1. , 4.4, 1.3],\n",
              "       [1. , 4.1, 1.3],\n",
              "       [1. , 4. , 1.3],\n",
              "       [1. , 4.4, 1.2],\n",
              "       [1. , 4.6, 1.4],\n",
              "       [1. , 4. , 1.2],\n",
              "       [1. , 3.3, 1. ],\n",
              "       [1. , 4.2, 1.3],\n",
              "       [1. , 4.2, 1.2],\n",
              "       [1. , 4.2, 1.3],\n",
              "       [1. , 4.3, 1.3],\n",
              "       [1. , 3. , 1.1],\n",
              "       [1. , 4.1, 1.3],\n",
              "       [1. , 6. , 2.5],\n",
              "       [1. , 5.1, 1.9],\n",
              "       [1. , 5.9, 2.1],\n",
              "       [1. , 5.6, 1.8],\n",
              "       [1. , 5.8, 2.2],\n",
              "       [1. , 6.6, 2.1],\n",
              "       [1. , 4.5, 1.7],\n",
              "       [1. , 6.3, 1.8],\n",
              "       [1. , 5.8, 1.8],\n",
              "       [1. , 6.1, 2.5],\n",
              "       [1. , 5.1, 2. ],\n",
              "       [1. , 5.3, 1.9],\n",
              "       [1. , 5.5, 2.1],\n",
              "       [1. , 5. , 2. ],\n",
              "       [1. , 5.1, 2.4],\n",
              "       [1. , 5.3, 2.3],\n",
              "       [1. , 5.5, 1.8],\n",
              "       [1. , 6.7, 2.2],\n",
              "       [1. , 6.9, 2.3],\n",
              "       [1. , 5. , 1.5],\n",
              "       [1. , 5.7, 2.3],\n",
              "       [1. , 4.9, 2. ],\n",
              "       [1. , 6.7, 2. ],\n",
              "       [1. , 4.9, 1.8],\n",
              "       [1. , 5.7, 2.1],\n",
              "       [1. , 6. , 1.8],\n",
              "       [1. , 4.8, 1.8],\n",
              "       [1. , 4.9, 1.8],\n",
              "       [1. , 5.6, 2.1],\n",
              "       [1. , 5.8, 1.6],\n",
              "       [1. , 6.1, 1.9],\n",
              "       [1. , 6.4, 2. ],\n",
              "       [1. , 5.6, 2.2],\n",
              "       [1. , 5.1, 1.5],\n",
              "       [1. , 5.6, 1.4],\n",
              "       [1. , 6.1, 2.3],\n",
              "       [1. , 5.6, 2.4],\n",
              "       [1. , 5.5, 1.8],\n",
              "       [1. , 4.8, 1.8],\n",
              "       [1. , 5.4, 2.1],\n",
              "       [1. , 5.6, 2.4],\n",
              "       [1. , 5.1, 2.3],\n",
              "       [1. , 5.1, 1.9],\n",
              "       [1. , 5.9, 2.3],\n",
              "       [1. , 5.7, 2.5],\n",
              "       [1. , 5.2, 2.3],\n",
              "       [1. , 5. , 1.9],\n",
              "       [1. , 5.2, 2. ],\n",
              "       [1. , 5.4, 2.3],\n",
              "       [1. , 5.1, 1.8]])"
            ]
          },
          "metadata": {},
          "execution_count": 79
        }
      ]
    },
    {
      "cell_type": "code",
      "source": [
        "#X_train, X_test, y_train, y_test = sklearn.train_test_split(X, y, test_size=0.2)\n",
        "\n",
        "test_ratio = 0.2\n",
        "validation_ratio = 0.2\n",
        "total_size = len(X)\n",
        "test_size = int(total_size * test_ratio)\n",
        "validation_size = int(total_size * validation_ratio)\n",
        "train_size = total_size - test_size - validation_size\n",
        "\n",
        "np.random.seed(42)\n",
        "rnd_indices = np.random.permutation(total_size)\n",
        "\n",
        "X_train = X[rnd_indices[:train_size]]\n",
        "y_train = y[rnd_indices[:train_size]]\n",
        "\n",
        "X_valid = X[rnd_indices[train_size:-test_size]]\n",
        "y_valid = y[rnd_indices[train_size:-test_size]]\n",
        "\n",
        "X_test = X[rnd_indices[-test_size:]]\n",
        "y_test = y[rnd_indices[-test_size:]]"
      ],
      "metadata": {
        "id": "Y_1fQOBL2pCZ"
      },
      "execution_count": 80,
      "outputs": []
    },
    {
      "cell_type": "code",
      "source": [
        "len(X_train),len(y_train)"
      ],
      "metadata": {
        "colab": {
          "base_uri": "https://localhost:8080/"
        },
        "id": "FMNnrTWC2qEY",
        "outputId": "81410d9b-10cf-4ae0-dff4-789732fbd44c"
      },
      "execution_count": 81,
      "outputs": [
        {
          "output_type": "execute_result",
          "data": {
            "text/plain": [
              "(90, 90)"
            ]
          },
          "metadata": {},
          "execution_count": 81
        }
      ]
    },
    {
      "cell_type": "code",
      "source": [
        "len(X_valid),len(y_valid)"
      ],
      "metadata": {
        "colab": {
          "base_uri": "https://localhost:8080/"
        },
        "id": "VCnpcGSr4o4X",
        "outputId": "3aa56280-46b0-4f75-9034-39e991c708d2"
      },
      "execution_count": 82,
      "outputs": [
        {
          "output_type": "execute_result",
          "data": {
            "text/plain": [
              "(30, 30)"
            ]
          },
          "metadata": {},
          "execution_count": 82
        }
      ]
    },
    {
      "cell_type": "code",
      "source": [
        "len(X_test),len(y_test)"
      ],
      "metadata": {
        "colab": {
          "base_uri": "https://localhost:8080/"
        },
        "id": "PTAmNGKU4s5H",
        "outputId": "f97b556e-2d85-4b2e-c6d3-6776dfd28aef"
      },
      "execution_count": 83,
      "outputs": [
        {
          "output_type": "execute_result",
          "data": {
            "text/plain": [
              "(30, 30)"
            ]
          },
          "metadata": {},
          "execution_count": 83
        }
      ]
    },
    {
      "cell_type": "code",
      "source": [
        "#one_hot_encoded = tf.one_hot(targets, depth) #depth is number of classes\n",
        "def to_one_hot(y):\n",
        "  return np.diag(np.ones(y.max() + 1))[y]"
      ],
      "metadata": {
        "id": "u0sm6nyX4vH3"
      },
      "execution_count": 84,
      "outputs": []
    },
    {
      "cell_type": "code",
      "source": [
        "y_train[:3]"
      ],
      "metadata": {
        "colab": {
          "base_uri": "https://localhost:8080/"
        },
        "id": "HUBnDl_86wg9",
        "outputId": "d7fc30c4-f0b4-4c3d-cb03-39b4151d7c35"
      },
      "execution_count": 85,
      "outputs": [
        {
          "output_type": "execute_result",
          "data": {
            "text/plain": [
              "array([1, 0, 2])"
            ]
          },
          "metadata": {},
          "execution_count": 85
        }
      ]
    },
    {
      "cell_type": "code",
      "source": [
        "to_one_hot(y_train[:3])"
      ],
      "metadata": {
        "colab": {
          "base_uri": "https://localhost:8080/"
        },
        "id": "k7hB54td6zTC",
        "outputId": "3112c8c5-974c-4539-b685-77a13d9c5479"
      },
      "execution_count": 86,
      "outputs": [
        {
          "output_type": "execute_result",
          "data": {
            "text/plain": [
              "array([[0., 1., 0.],\n",
              "       [1., 0., 0.],\n",
              "       [0., 0., 1.]])"
            ]
          },
          "metadata": {},
          "execution_count": 86
        }
      ]
    },
    {
      "cell_type": "code",
      "source": [
        "Y_train = to_one_hot(y_train)\n",
        "Y_valid = to_one_hot(y_valid) #y_train = to_one_hot(y_train) won't work need a different variable\n",
        "Y_test = to_one_hot(y_test)"
      ],
      "metadata": {
        "id": "17L-gX7l63V4"
      },
      "execution_count": 87,
      "outputs": []
    },
    {
      "cell_type": "code",
      "source": [
        "#sklearn.preprocessing.StandardScaler(X)\n",
        "mean = X_train[:, 1:].mean(axis=0)\n",
        "std = X_train[:, 1:].std(axis=0)\n",
        "X_train[:, 1:] = (X_train[:, 1:] - mean) / std\n",
        "X_valid[:, 1:] = (X_valid[:, 1:] - mean) / std\n",
        "X_test[:, 1:] = (X_test[:, 1:] - mean) / std"
      ],
      "metadata": {
        "id": "6WAVoOzW692z"
      },
      "execution_count": 90,
      "outputs": []
    },
    {
      "cell_type": "code",
      "source": [],
      "metadata": {
        "id": "eO_MuYZB695j"
      },
      "execution_count": null,
      "outputs": []
    },
    {
      "cell_type": "code",
      "source": [],
      "metadata": {
        "id": "m0E7t9bC6-cl"
      },
      "execution_count": null,
      "outputs": []
    },
    {
      "cell_type": "code",
      "source": [],
      "metadata": {
        "id": "ppAcBjH06-Zu"
      },
      "execution_count": null,
      "outputs": []
    },
    {
      "cell_type": "code",
      "source": [],
      "metadata": {
        "id": "oQxpeOeu6-XV"
      },
      "execution_count": null,
      "outputs": []
    },
    {
      "cell_type": "code",
      "source": [],
      "metadata": {
        "id": "rcZu5dcB6-Uz"
      },
      "execution_count": null,
      "outputs": []
    },
    {
      "cell_type": "code",
      "source": [],
      "metadata": {
        "id": "D9if3lOY6-SX"
      },
      "execution_count": null,
      "outputs": []
    },
    {
      "cell_type": "code",
      "source": [],
      "metadata": {
        "id": "cVIksd0o6-QF"
      },
      "execution_count": null,
      "outputs": []
    },
    {
      "cell_type": "code",
      "source": [],
      "metadata": {
        "id": "kKPzJ34G6-Nk"
      },
      "execution_count": null,
      "outputs": []
    },
    {
      "cell_type": "code",
      "source": [],
      "metadata": {
        "id": "jYWD4bKM6-LU"
      },
      "execution_count": null,
      "outputs": []
    },
    {
      "cell_type": "code",
      "source": [],
      "metadata": {
        "id": "6_wntfWe6-F7"
      },
      "execution_count": null,
      "outputs": []
    },
    {
      "cell_type": "code",
      "source": [],
      "metadata": {
        "id": "ZA3Prsf_6-Cz"
      },
      "execution_count": null,
      "outputs": []
    },
    {
      "cell_type": "code",
      "source": [],
      "metadata": {
        "id": "kozSJb7k697_"
      },
      "execution_count": null,
      "outputs": []
    }
  ]
}